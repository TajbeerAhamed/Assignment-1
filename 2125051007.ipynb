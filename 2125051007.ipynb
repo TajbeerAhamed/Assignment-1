{
  "nbformat": 4,
  "nbformat_minor": 0,
  "metadata": {
    "colab": {
      "provenance": [],
      "authorship_tag": "ABX9TyNrzdPizZSj/VRGrgWyaOXm",
      "include_colab_link": true
    },
    "kernelspec": {
      "name": "python3",
      "display_name": "Python 3"
    },
    "language_info": {
      "name": "python"
    }
  },
  "cells": [
    {
      "cell_type": "markdown",
      "metadata": {
        "id": "view-in-github",
        "colab_type": "text"
      },
      "source": [
        "<a href=\"https://colab.research.google.com/github/TajbeerAhamed/Assignment-1/blob/main/2125051007.ipynb\" target=\"_parent\"><img src=\"https://colab.research.google.com/assets/colab-badge.svg\" alt=\"Open In Colab\"/></a>"
      ]
    },
    {
      "cell_type": "code",
      "execution_count": null,
      "metadata": {
        "colab": {
          "base_uri": "https://localhost:8080/"
        },
        "id": "zbdm0uNQoxY1",
        "outputId": "e6c1793e-5114-4092-e68e-5d54c872f149"
      },
      "outputs": [
        {
          "output_type": "stream",
          "name": "stdout",
          "text": [
            "Mounted at /content/drive\n"
          ]
        }
      ],
      "source": [
        "from google.colab import drive\n",
        "drive.mount('/content/drive')"
      ]
    },
    {
      "cell_type": "markdown",
      "source": [
        "*Conventional* Approach"
      ],
      "metadata": {
        "id": "t4HoWIT2p0U4"
      }
    },
    {
      "cell_type": "code",
      "source": [
        "import os\n",
        "import cv2\n",
        "import numpy as np\n",
        "from sklearn.model_selection import train_test_split\n",
        "from sklearn.svm import SVC\n",
        "from sklearn.metrics import classification_report, accuracy_score\n",
        "from skimage.feature import hog\n",
        "\n",
        "# Path to dataset\n",
        "data_dir = '/content/drive/MyDrive/ML LAb PRoject/Dataset'\n",
        "\n",
        "# Function to load dataset\n",
        "def load_dataset(data_dir):\n",
        "    labels = []\n",
        "    images = []\n",
        "    class_names = os.listdir(data_dir)\n",
        "    for label, class_name in enumerate(class_names):\n",
        "        class_dir = os.path.join(data_dir, class_name)\n",
        "        for file in os.listdir(class_dir):\n",
        "            img_path = os.path.join(class_dir, file)\n",
        "            # Ensure only image files are processed\n",
        "            if file.lower().endswith(('.png', '.jpg', '.jpeg')):\n",
        "                img = cv2.imread(img_path, cv2.IMREAD_COLOR)\n",
        "                if img is not None:  # Ensure valid images\n",
        "                    img = cv2.resize(img, (64, 64))\n",
        "                    images.append(img)\n",
        "                    labels.append(label)\n",
        "    return np.array(images), np.array(labels), class_names\n",
        "\n",
        "# Function for feature extraction using HOG\n",
        "def extract_features(images):\n",
        "    features = []\n",
        "    for img in images:\n",
        "        gray = cv2.cvtColor(img, cv2.COLOR_BGR2GRAY)  # Convert to grayscale\n",
        "        hog_features = hog(gray,\n",
        "                           orientations=9,\n",
        "                           pixels_per_cell=(8, 8),\n",
        "                           cells_per_block=(2, 2),\n",
        "                           block_norm='L2-Hys')\n",
        "        features.append(hog_features)\n",
        "    return np.array(features)\n",
        "\n",
        "\n",
        "\n",
        "# Load the dataset\n",
        "images, labels, class_names = load_dataset(data_dir)\n",
        "print(f\"Loaded {len(images)} images across {len(class_names)} classes: {class_names}\")\n",
        "\n",
        "# Extract HOG features\n",
        "features = extract_features(images)\n",
        "\n",
        "# Split dataset into training and testing sets\n",
        "X_train, X_test, y_train, y_test = train_test_split(features, labels, test_size=0.2, random_state=42)\n",
        "\n",
        "# Train SVM classifier\n",
        "classifier = SVC(kernel='linear', C=1.0, random_state=42)\n",
        "classifier.fit(X_train, y_train)\n",
        "\n",
        "# Evaluate the model\n",
        "y_pred = classifier.predict(X_test)\n",
        "print(\"Accuracy:\", accuracy_score(y_test, y_pred))\n",
        "print(classification_report(y_test, y_pred, target_names=class_names))"
      ],
      "metadata": {
        "colab": {
          "base_uri": "https://localhost:8080/"
        },
        "id": "GBen6P5YpVbV",
        "outputId": "f0171650-dd86-49f0-d1b9-57296c7a44e4"
      },
      "execution_count": null,
      "outputs": [
        {
          "output_type": "stream",
          "name": "stdout",
          "text": [
            "Loaded 400 images across 4 classes: ['Truck', 'motorcycle', 'Bus', 'Car']\n",
            "Accuracy: 0.6875\n",
            "              precision    recall  f1-score   support\n",
            "\n",
            "       Truck       0.67      0.54      0.60        26\n",
            "  motorcycle       0.78      1.00      0.88        18\n",
            "         Bus       0.54      0.78      0.64        18\n",
            "         Car       0.90      0.50      0.64        18\n",
            "\n",
            "    accuracy                           0.69        80\n",
            "   macro avg       0.72      0.70      0.69        80\n",
            "weighted avg       0.72      0.69      0.68        80\n",
            "\n"
          ]
        }
      ]
    },
    {
      "cell_type": "markdown",
      "source": [
        "*CNN* Approach"
      ],
      "metadata": {
        "id": "MCV11szqsS0n"
      }
    },
    {
      "cell_type": "code",
      "source": [
        "import os\n",
        "import numpy as np\n",
        "import tensorflow as tf\n",
        "from tensorflow.keras.models import Sequential\n",
        "from tensorflow.keras.layers import Conv2D, MaxPooling2D, Flatten, Dense\n",
        "from tensorflow.keras.utils import to_categorical\n",
        "from tensorflow.keras.preprocessing.image import ImageDataGenerator\n",
        "from sklearn.model_selection import train_test_split\n",
        "\n",
        "# Load dataset\n",
        "data_dir = '/content/drive/MyDrive/ML LAb PRoject/Dataset'\n",
        "\n",
        "# Load dataset\n",
        "def load_dataset(data_dir):\n",
        "    labels = []\n",
        "    images = []\n",
        "    class_names = os.listdir(data_dir)\n",
        "    for label, class_name in enumerate(class_names):\n",
        "        class_dir = os.path.join(data_dir, class_name)\n",
        "        # Iterate through files within the class directory\n",
        "        for file in os.listdir(class_dir):\n",
        "            # Construct the full image path\n",
        "            img_path = os.path.join(class_dir, file)\n",
        "            # Check if it's a file and not a directory before loading\n",
        "            if os.path.isfile(img_path) and file.lower().endswith(('.png', '.jpg', '.jpeg')):\n",
        "                img = tf.keras.preprocessing.image.load_img(img_path, target_size=(64, 64))\n",
        "                img = tf.keras.preprocessing.image.img_to_array(img)\n",
        "                images.append(img)\n",
        "                labels.append(label)\n",
        "    return np.array(images), np.array(labels), class_names\n",
        "\n",
        "\n",
        "images, labels, class_names = load_dataset(data_dir)\n",
        "\n",
        "# Normalize images\n",
        "images = images / 255.0\n",
        "\n",
        "# One-hot encode labels\n",
        "labels = to_categorical(labels, num_classes=len(class_names))\n",
        "\n",
        "# Split dataset\n",
        "X_train, X_test, y_train, y_test = train_test_split(images, labels, test_size=0.2, random_state=42)\n",
        "\n",
        "# Define CNN model\n",
        "model = Sequential([\n",
        "    Conv2D(32, (3, 3), activation='relu', input_shape=(64, 64, 3)),\n",
        "    MaxPooling2D((2, 2)),\n",
        "    Conv2D(64, (3, 3), activation='relu'),\n",
        "    MaxPooling2D((2, 2)),\n",
        "    Flatten(),\n",
        "    Dense(128, activation='relu'),\n",
        "    Dense(len(class_names), activation='softmax')\n",
        "])\n",
        "\n",
        "# Compile model\n",
        "model.compile(optimizer='adam', loss='categorical_crossentropy', metrics=['accuracy'])\n",
        "\n",
        "# Train model\n",
        "model.fit(X_train, y_train, epochs=10, batch_size=32, validation_split=0.2)\n",
        "\n",
        "# Evaluate model\n",
        "test_loss, test_accuracy = model.evaluate(X_test, y_test)\n",
        "print(f\"Test Accuracy: {test_accuracy:.2f}\")"
      ],
      "metadata": {
        "colab": {
          "base_uri": "https://localhost:8080/"
        },
        "id": "aKyTyv6usDP_",
        "outputId": "6537bd42-2f67-4250-d5c9-15d524c2022c"
      },
      "execution_count": null,
      "outputs": [
        {
          "output_type": "stream",
          "name": "stderr",
          "text": [
            "/usr/local/lib/python3.10/dist-packages/PIL/Image.py:1054: UserWarning: Palette images with Transparency expressed in bytes should be converted to RGBA images\n",
            "  warnings.warn(\n",
            "/usr/local/lib/python3.10/dist-packages/keras/src/layers/convolutional/base_conv.py:107: UserWarning: Do not pass an `input_shape`/`input_dim` argument to a layer. When using Sequential models, prefer using an `Input(shape)` object as the first layer in the model instead.\n",
            "  super().__init__(activity_regularizer=activity_regularizer, **kwargs)\n"
          ]
        },
        {
          "output_type": "stream",
          "name": "stdout",
          "text": [
            "Epoch 1/10\n",
            "\u001b[1m8/8\u001b[0m \u001b[32m━━━━━━━━━━━━━━━━━━━━\u001b[0m\u001b[37m\u001b[0m \u001b[1m5s\u001b[0m 368ms/step - accuracy: 0.2139 - loss: 1.5048 - val_accuracy: 0.3594 - val_loss: 1.3603\n",
            "Epoch 2/10\n",
            "\u001b[1m8/8\u001b[0m \u001b[32m━━━━━━━━━━━━━━━━━━━━\u001b[0m\u001b[37m\u001b[0m \u001b[1m3s\u001b[0m 182ms/step - accuracy: 0.5904 - loss: 1.3104 - val_accuracy: 0.3125 - val_loss: 1.3125\n",
            "Epoch 3/10\n",
            "\u001b[1m8/8\u001b[0m \u001b[32m━━━━━━━━━━━━━━━━━━━━\u001b[0m\u001b[37m\u001b[0m \u001b[1m3s\u001b[0m 182ms/step - accuracy: 0.5327 - loss: 1.1284 - val_accuracy: 0.4219 - val_loss: 1.1303\n",
            "Epoch 4/10\n",
            "\u001b[1m8/8\u001b[0m \u001b[32m━━━━━━━━━━━━━━━━━━━━\u001b[0m\u001b[37m\u001b[0m \u001b[1m3s\u001b[0m 177ms/step - accuracy: 0.6069 - loss: 0.9723 - val_accuracy: 0.6094 - val_loss: 1.0632\n",
            "Epoch 5/10\n",
            "\u001b[1m8/8\u001b[0m \u001b[32m━━━━━━━━━━━━━━━━━━━━\u001b[0m\u001b[37m\u001b[0m \u001b[1m1s\u001b[0m 180ms/step - accuracy: 0.6527 - loss: 0.8534 - val_accuracy: 0.4531 - val_loss: 1.2828\n",
            "Epoch 6/10\n",
            "\u001b[1m8/8\u001b[0m \u001b[32m━━━━━━━━━━━━━━━━━━━━\u001b[0m\u001b[37m\u001b[0m \u001b[1m1s\u001b[0m 180ms/step - accuracy: 0.7053 - loss: 0.7200 - val_accuracy: 0.6094 - val_loss: 0.8950\n",
            "Epoch 7/10\n",
            "\u001b[1m8/8\u001b[0m \u001b[32m━━━━━━━━━━━━━━━━━━━━\u001b[0m\u001b[37m\u001b[0m \u001b[1m2s\u001b[0m 312ms/step - accuracy: 0.7984 - loss: 0.5748 - val_accuracy: 0.6875 - val_loss: 0.8616\n",
            "Epoch 8/10\n",
            "\u001b[1m8/8\u001b[0m \u001b[32m━━━━━━━━━━━━━━━━━━━━\u001b[0m\u001b[37m\u001b[0m \u001b[1m3s\u001b[0m 312ms/step - accuracy: 0.9150 - loss: 0.4068 - val_accuracy: 0.5938 - val_loss: 1.0186\n",
            "Epoch 9/10\n",
            "\u001b[1m8/8\u001b[0m \u001b[32m━━━━━━━━━━━━━━━━━━━━\u001b[0m\u001b[37m\u001b[0m \u001b[1m2s\u001b[0m 222ms/step - accuracy: 0.9088 - loss: 0.3218 - val_accuracy: 0.5625 - val_loss: 1.2479\n",
            "Epoch 10/10\n",
            "\u001b[1m8/8\u001b[0m \u001b[32m━━━━━━━━━━━━━━━━━━━━\u001b[0m\u001b[37m\u001b[0m \u001b[1m1s\u001b[0m 183ms/step - accuracy: 0.9200 - loss: 0.2572 - val_accuracy: 0.6406 - val_loss: 1.0205\n",
            "\u001b[1m3/3\u001b[0m \u001b[32m━━━━━━━━━━━━━━━━━━━━\u001b[0m\u001b[37m\u001b[0m \u001b[1m0s\u001b[0m 42ms/step - accuracy: 0.6695 - loss: 0.8378\n",
            "Test Accuracy: 0.68\n"
          ]
        }
      ]
    }
  ]
}